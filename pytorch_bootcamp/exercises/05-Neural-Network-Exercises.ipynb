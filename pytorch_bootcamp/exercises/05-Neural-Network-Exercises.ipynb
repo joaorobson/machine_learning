{
 "cells": [
  {
   "cell_type": "markdown",
   "metadata": {},
   "source": [
    "<img src=\"../Pierian-Data-Logo.PNG\">\n",
    "<br>\n",
    "<strong><center>Copyright 2019. Created by Jose Marcial Portilla.</center></strong>"
   ]
  },
  {
   "cell_type": "markdown",
   "metadata": {
    "collapsed": true
   },
   "source": [
    "# Neural Network Exercises\n",
    "For these exercises we'll perform a binary classification on the Census Income dataset available from the <a href = 'http://archive.ics.uci.edu/ml/datasets/Adult'>UC Irvine Machine Learning Repository</a><br>\n",
    "The goal is to determine if an individual earns more than $50K based on a set of continuous and categorical variables.\n",
    "\n",
    "<div class=\"alert alert-danger\" style=\"margin: 10px\"><strong>IMPORTANT NOTE!</strong> Make sure you don't run the cells directly above the example output shown, <br>otherwise you will end up writing over the example output!</div>"
   ]
  },
  {
   "cell_type": "markdown",
   "metadata": {},
   "source": [
    "## Census Income Dataset\n",
    "For this exercises we're using the Census Income dataset available from the <a href='http://archive.ics.uci.edu/ml/datasets/Adult'>UC Irvine Machine Learning Repository</a>.\n",
    "\n",
    "The full dataset has 48,842 entries. For this exercise we have reduced the number of records, fields and field entries, and have removed entries with null values. The file <strong>income.csv</strong> has\t30,000 entries\n",
    "\n",
    "Each entry contains the following information about an individual:\n",
    "* <strong>age</strong>: the age of an individual as an integer from 18 to 90 (continuous)\n",
    "* <strong>sex</strong>: Male or Female (categorical)\n",
    "* <strong>education</strong>: represents the highest level of education achieved by an individual (categorical)\n",
    "* <strong>education_num</strong>: represents education as an integer from 3 to 16 (categorical)\n",
    "<div><table style=\"display: inline-block\">\n",
    "<tr><td>3</td><td>5th-6th</td><td>8</td><td>12th</td><td>13</td><td>Bachelors</td></tr>\n",
    "<tr><td>4</td><td>7th-8th</td><td>9</td><td>HS-grad</td><td>14</td><td>Masters</td></tr>\n",
    "<tr><td>5</td><td>9th</td><td>10</td><td>Some-college</td><td>15</td><td>Prof-school</td></tr>\n",
    "<tr><td>6</td><td>10th</td><td>11</td><td>Assoc-voc</td><td>16</td><td>Doctorate</td></tr>\n",
    "<tr><td>7</td><td>11th</td><td>12</td><td>Assoc-acdm</td></tr>\n",
    "</table></div>\n",
    "* <strong>marital-status</strong>: marital status of an individual (categorical)\n",
    "<div><table style=\"display: inline-block\">\n",
    "<tr><td>Married</td><td>Divorced</td><td>Married-spouse-absent</td></tr>\n",
    "<tr><td>Separated</td><td>Widowed</td><td>Never-married</td></tr>\n",
    "</table></div>\n",
    "* <strong>workclass</strong>: a general term to represent the employment status of an individual (categorical)\n",
    "<div><table style=\"display: inline-block\">\n",
    "<tr><td>Local-gov</td><td>Private</td></tr>\n",
    "<tr><td>State-gov</td><td>Self-emp</td></tr>\n",
    "<tr><td>Federal-gov</td></tr>\n",
    "</table></div>\n",
    "* <strong>occupation</strong>: the general type of occupation of an individual (categorical)\n",
    "<div><table style=\"display: inline-block\">\n",
    "<tr><td>Adm-clerical</td><td>Handlers-cleaners</td><td>Protective-serv</td></tr>\n",
    "<tr><td>Craft-repair</td><td>Machine-op-inspct</td><td>Sales</td></tr>\n",
    "<tr><td>Exec-managerial</td><td>Other-service</td><td>Tech-support</td></tr>\n",
    "<tr><td>Farming-fishing</td><td>Prof-specialty</td><td>Transport-moving</td></tr>\n",
    "</table></div>\n",
    "* <strong>hours-per-week</strong>: the hours an individual has reported to work per week as an integer from 20 to 90 (continuous)\n",
    "* <strong>income</strong>: whether or not an individual makes more than \\\\$50,000 annually (label)\n",
    "* <strong>label</strong>: income represented as an integer (0: <=\\\\$50K, 1: >\\\\$50K) (optional label)"
   ]
  },
  {
   "cell_type": "markdown",
   "metadata": {},
   "source": [
    "## Perform standard imports\n",
    "Run the cell below to load the libraries needed for this exercise and the Census Income dataset."
   ]
  },
  {
   "cell_type": "code",
   "execution_count": 1,
   "metadata": {},
   "outputs": [],
   "source": [
    "import torch\n",
    "import torch.nn as nn\n",
    "\n",
    "import numpy as np\n",
    "import pandas as pd\n",
    "import matplotlib.pyplot as plt\n",
    "from sklearn.utils import shuffle\n",
    "%matplotlib inline\n",
    "\n",
    "df = pd.read_csv('../Data/income.csv')"
   ]
  },
  {
   "cell_type": "code",
   "execution_count": 2,
   "metadata": {
    "scrolled": true
   },
   "outputs": [
    {
     "name": "stdout",
     "output_type": "stream",
     "text": [
      "30000\n"
     ]
    },
    {
     "data": {
      "text/html": [
       "<div>\n",
       "<style scoped>\n",
       "    .dataframe tbody tr th:only-of-type {\n",
       "        vertical-align: middle;\n",
       "    }\n",
       "\n",
       "    .dataframe tbody tr th {\n",
       "        vertical-align: top;\n",
       "    }\n",
       "\n",
       "    .dataframe thead th {\n",
       "        text-align: right;\n",
       "    }\n",
       "</style>\n",
       "<table border=\"1\" class=\"dataframe\">\n",
       "  <thead>\n",
       "    <tr style=\"text-align: right;\">\n",
       "      <th></th>\n",
       "      <th>age</th>\n",
       "      <th>sex</th>\n",
       "      <th>education</th>\n",
       "      <th>education-num</th>\n",
       "      <th>marital-status</th>\n",
       "      <th>workclass</th>\n",
       "      <th>occupation</th>\n",
       "      <th>hours-per-week</th>\n",
       "      <th>income</th>\n",
       "      <th>label</th>\n",
       "    </tr>\n",
       "  </thead>\n",
       "  <tbody>\n",
       "    <tr>\n",
       "      <th>0</th>\n",
       "      <td>27</td>\n",
       "      <td>Male</td>\n",
       "      <td>HS-grad</td>\n",
       "      <td>9</td>\n",
       "      <td>Never-married</td>\n",
       "      <td>Private</td>\n",
       "      <td>Craft-repair</td>\n",
       "      <td>40</td>\n",
       "      <td>&lt;=50K</td>\n",
       "      <td>0</td>\n",
       "    </tr>\n",
       "    <tr>\n",
       "      <th>1</th>\n",
       "      <td>47</td>\n",
       "      <td>Male</td>\n",
       "      <td>Masters</td>\n",
       "      <td>14</td>\n",
       "      <td>Married</td>\n",
       "      <td>Local-gov</td>\n",
       "      <td>Exec-managerial</td>\n",
       "      <td>50</td>\n",
       "      <td>&gt;50K</td>\n",
       "      <td>1</td>\n",
       "    </tr>\n",
       "    <tr>\n",
       "      <th>2</th>\n",
       "      <td>59</td>\n",
       "      <td>Male</td>\n",
       "      <td>HS-grad</td>\n",
       "      <td>9</td>\n",
       "      <td>Divorced</td>\n",
       "      <td>Self-emp</td>\n",
       "      <td>Prof-specialty</td>\n",
       "      <td>20</td>\n",
       "      <td>&lt;=50K</td>\n",
       "      <td>0</td>\n",
       "    </tr>\n",
       "    <tr>\n",
       "      <th>3</th>\n",
       "      <td>38</td>\n",
       "      <td>Female</td>\n",
       "      <td>Prof-school</td>\n",
       "      <td>15</td>\n",
       "      <td>Never-married</td>\n",
       "      <td>Federal-gov</td>\n",
       "      <td>Prof-specialty</td>\n",
       "      <td>57</td>\n",
       "      <td>&gt;50K</td>\n",
       "      <td>1</td>\n",
       "    </tr>\n",
       "    <tr>\n",
       "      <th>4</th>\n",
       "      <td>64</td>\n",
       "      <td>Female</td>\n",
       "      <td>11th</td>\n",
       "      <td>7</td>\n",
       "      <td>Widowed</td>\n",
       "      <td>Private</td>\n",
       "      <td>Farming-fishing</td>\n",
       "      <td>40</td>\n",
       "      <td>&lt;=50K</td>\n",
       "      <td>0</td>\n",
       "    </tr>\n",
       "  </tbody>\n",
       "</table>\n",
       "</div>"
      ],
      "text/plain": [
       "   age     sex    education  education-num marital-status    workclass  \\\n",
       "0   27    Male      HS-grad              9  Never-married      Private   \n",
       "1   47    Male      Masters             14        Married    Local-gov   \n",
       "2   59    Male      HS-grad              9       Divorced     Self-emp   \n",
       "3   38  Female  Prof-school             15  Never-married  Federal-gov   \n",
       "4   64  Female         11th              7        Widowed      Private   \n",
       "\n",
       "        occupation  hours-per-week income  label  \n",
       "0     Craft-repair              40  <=50K      0  \n",
       "1  Exec-managerial              50   >50K      1  \n",
       "2   Prof-specialty              20  <=50K      0  \n",
       "3   Prof-specialty              57   >50K      1  \n",
       "4  Farming-fishing              40  <=50K      0  "
      ]
     },
     "execution_count": 2,
     "metadata": {},
     "output_type": "execute_result"
    }
   ],
   "source": [
    "print(len(df))\n",
    "df.head()"
   ]
  },
  {
   "cell_type": "code",
   "execution_count": 3,
   "metadata": {},
   "outputs": [
    {
     "data": {
      "text/plain": [
       "0    21700\n",
       "1     8300\n",
       "Name: label, dtype: int64"
      ]
     },
     "execution_count": 3,
     "metadata": {},
     "output_type": "execute_result"
    }
   ],
   "source": [
    "df['label'].value_counts()"
   ]
  },
  {
   "cell_type": "markdown",
   "metadata": {},
   "source": [
    "### 1. Separate continuous, categorical and label column names\n",
    "You should find that there are 5 categorical columns, 2 continuous columns and 1 label.<br>\n",
    "In the case of <em>education</em> and <em>education-num</em> it doesn't matter which column you use. For the label column, be sure to use <em>label</em> and not <em>income</em>.<br>\n",
    "Assign the variable names \"cat_cols\", \"cont_cols\" and \"y_col\" to the lists of names."
   ]
  },
  {
   "cell_type": "code",
   "execution_count": 4,
   "metadata": {},
   "outputs": [
    {
     "data": {
      "text/plain": [
       "Index(['age', 'sex', 'education', 'education-num', 'marital-status',\n",
       "       'workclass', 'occupation', 'hours-per-week', 'income', 'label'],\n",
       "      dtype='object')"
      ]
     },
     "execution_count": 4,
     "metadata": {},
     "output_type": "execute_result"
    }
   ],
   "source": [
    "df.columns"
   ]
  },
  {
   "cell_type": "code",
   "execution_count": 5,
   "metadata": {},
   "outputs": [
    {
     "name": "stdout",
     "output_type": "stream",
     "text": [
      "cat_cols  has 5 columns\n",
      "cont_cols has 2 columns\n",
      "y_col     has 1 column\n"
     ]
    }
   ],
   "source": [
    "# CODE HERE\n",
    "\n",
    "cat_cols = [\"sex\", \"education\", \"marital-status\", \"workclass\", \"occupation\"]\n",
    "cont_cols = [\"age\", \"hours-per-week\"]\n",
    "y_col = [\"label\"]\n",
    "\n",
    "# RUN THIS CODE TO COMPARE RESULTS:\n",
    "print(f'cat_cols  has {len(cat_cols)} columns')\n",
    "print(f'cont_cols has {len(cont_cols)} columns')\n",
    "print(f'y_col     has {len(y_col)} column')"
   ]
  },
  {
   "cell_type": "code",
   "execution_count": 4,
   "metadata": {},
   "outputs": [
    {
     "name": "stdout",
     "output_type": "stream",
     "text": [
      "cat_cols  has 5 columns\n",
      "cont_cols has 2 columns\n",
      "y_col     has 1 column\n"
     ]
    }
   ],
   "source": [
    "# DON'T WRITE HERE"
   ]
  },
  {
   "cell_type": "markdown",
   "metadata": {},
   "source": [
    "### 2. Convert categorical columns to category dtypes"
   ]
  },
  {
   "cell_type": "code",
   "execution_count": 7,
   "metadata": {},
   "outputs": [
    {
     "data": {
      "text/plain": [
       "age                  int64\n",
       "sex               category\n",
       "education         category\n",
       "education-num        int64\n",
       "marital-status    category\n",
       "workclass         category\n",
       "occupation        category\n",
       "hours-per-week       int64\n",
       "income              object\n",
       "label                int64\n",
       "dtype: object"
      ]
     },
     "execution_count": 7,
     "metadata": {},
     "output_type": "execute_result"
    }
   ],
   "source": [
    "# CODE HERE\n",
    "\n",
    "for col in cat_cols:\n",
    "    df[col] = df[col].astype('category')\n",
    "\n",
    "df.dtypes"
   ]
  },
  {
   "cell_type": "code",
   "execution_count": 5,
   "metadata": {},
   "outputs": [],
   "source": [
    "# DON'T WRITE HERE"
   ]
  },
  {
   "cell_type": "markdown",
   "metadata": {},
   "source": [
    "### Optional: Shuffle the dataset\n",
    "The <strong>income.csv</strong> dataset is already shuffled. However, if you would like to try different configurations after completing the exercises, this is where you would want to shuffle the entire set."
   ]
  },
  {
   "cell_type": "code",
   "execution_count": null,
   "metadata": {},
   "outputs": [],
   "source": [
    "# THIS CELL IS OPTIONAL\n",
    "df = shuffle(df, random_state=101)\n",
    "df.reset_index(drop=True, inplace=True)\n",
    "df.head()"
   ]
  },
  {
   "cell_type": "markdown",
   "metadata": {},
   "source": [
    "### 3. Set the embedding sizes\n",
    "Create a variable \"cat_szs\" to hold the number of categories in each variable.<br>\n",
    "Then create a variable \"emb_szs\" to hold the list of (category size, embedding size) tuples."
   ]
  },
  {
   "cell_type": "code",
   "execution_count": 13,
   "metadata": {},
   "outputs": [
    {
     "data": {
      "text/plain": [
       "Index(['10th', '11th', '12th', '5th-6th', '7th-8th', '9th', 'Assoc-acdm',\n",
       "       'Assoc-voc', 'Bachelors', 'Doctorate', 'HS-grad', 'Masters',\n",
       "       'Prof-school', 'Some-college'],\n",
       "      dtype='object')"
      ]
     },
     "execution_count": 13,
     "metadata": {},
     "output_type": "execute_result"
    }
   ],
   "source": [
    "df[cat_cols[1]].cat.categories"
   ]
  },
  {
   "cell_type": "code",
   "execution_count": 17,
   "metadata": {},
   "outputs": [
    {
     "data": {
      "text/plain": [
       "[(2, 1), (14, 7), (6, 3), (5, 3), (12, 6)]"
      ]
     },
     "execution_count": 17,
     "metadata": {},
     "output_type": "execute_result"
    }
   ],
   "source": [
    "# CODE HERE\n",
    "\n",
    "cat_szs = [len(df[col].cat.categories) for col in cat_cols]\n",
    "emb_szs = [(cat_sz, min(50, (cat_sz+1)//2) for cat_sz in cat_szs]\n",
    "emb_szs"
   ]
  },
  {
   "cell_type": "code",
   "execution_count": 6,
   "metadata": {},
   "outputs": [
    {
     "data": {
      "text/plain": [
       "[(2, 1), (14, 7), (6, 3), (5, 3), (12, 6)]"
      ]
     },
     "execution_count": 6,
     "metadata": {},
     "output_type": "execute_result"
    }
   ],
   "source": [
    "# DON'T WRITE HERE"
   ]
  },
  {
   "cell_type": "markdown",
   "metadata": {},
   "source": [
    "### 4. Create an array of categorical values\n",
    "Create a NumPy array called \"cats\" that contains a stack of each categorical column <tt>.cat.codes.values</tt><br>\n",
    "Note: your output may contain different values. Ours came after performing the shuffle step shown above."
   ]
  },
  {
   "cell_type": "code",
   "execution_count": 31,
   "metadata": {},
   "outputs": [
    {
     "data": {
      "text/plain": [
       "array([[ 1, 10,  3,  2,  1],\n",
       "       [ 1, 11,  1,  1,  2],\n",
       "       [ 1, 10,  0,  3,  7],\n",
       "       [ 0, 12,  3,  0,  7],\n",
       "       [ 0,  1,  5,  2,  3]], dtype=int8)"
      ]
     },
     "execution_count": 31,
     "metadata": {},
     "output_type": "execute_result"
    }
   ],
   "source": [
    "# CODE HERE\n",
    "\n",
    "cats = np.stack([df[cat].cat.codes.values for cat in cat_cols], axis=1)\n",
    "\n",
    "\n",
    "\n",
    "\n",
    "\n",
    "# RUN THIS CODE TO COMPARE RESULTS\n",
    "cats[:5]"
   ]
  },
  {
   "cell_type": "code",
   "execution_count": 7,
   "metadata": {},
   "outputs": [
    {
     "data": {
      "text/plain": [
       "array([[ 1, 10,  3,  2,  1],\n",
       "       [ 1, 11,  1,  1,  2],\n",
       "       [ 1, 10,  0,  3,  7],\n",
       "       [ 0, 12,  3,  0,  7],\n",
       "       [ 0,  1,  5,  2,  3]], dtype=int8)"
      ]
     },
     "execution_count": 7,
     "metadata": {},
     "output_type": "execute_result"
    }
   ],
   "source": [
    "# DON'T WRITE HERE"
   ]
  },
  {
   "cell_type": "markdown",
   "metadata": {},
   "source": [
    "### 5. Convert \"cats\" to a tensor\n",
    "Convert the \"cats\" NumPy array to a tensor of dtype <tt>int64</tt>"
   ]
  },
  {
   "cell_type": "code",
   "execution_count": 32,
   "metadata": {},
   "outputs": [
    {
     "data": {
      "text/plain": [
       "tensor([[ 1, 10,  3,  2,  1],\n",
       "        [ 1, 11,  1,  1,  2],\n",
       "        [ 1, 10,  0,  3,  7],\n",
       "        ...,\n",
       "        [ 1, 12,  1,  2,  7],\n",
       "        [ 0, 13,  3,  2,  0],\n",
       "        [ 1,  6,  1,  3,  2]])"
      ]
     },
     "execution_count": 32,
     "metadata": {},
     "output_type": "execute_result"
    }
   ],
   "source": [
    "# CODE HERE\n",
    "cats = torch.tensor(cats, dtype=torch.int64)\n",
    "cats"
   ]
  },
  {
   "cell_type": "code",
   "execution_count": 8,
   "metadata": {},
   "outputs": [],
   "source": [
    "# DON'T WRITE HERE"
   ]
  },
  {
   "cell_type": "markdown",
   "metadata": {},
   "source": [
    "### 6. Create an array of continuous values\n",
    "Create a NumPy array called \"conts\" that contains a stack of each continuous column.<br>\n",
    "Note: your output may contain different values. Ours came after performing the shuffle step shown above."
   ]
  },
  {
   "cell_type": "code",
   "execution_count": 33,
   "metadata": {},
   "outputs": [
    {
     "data": {
      "text/plain": [
       "array([[27, 40],\n",
       "       [47, 50],\n",
       "       [59, 20],\n",
       "       [38, 57],\n",
       "       [64, 40]])"
      ]
     },
     "execution_count": 33,
     "metadata": {},
     "output_type": "execute_result"
    }
   ],
   "source": [
    "# CODE HERE\n",
    "conts = np.stack([df[col].values for col in cont_cols], axis=1)\n",
    "\n",
    "# RUN THIS CODE TO COMPARE RESULTS\n",
    "conts[:5]"
   ]
  },
  {
   "cell_type": "code",
   "execution_count": 9,
   "metadata": {},
   "outputs": [
    {
     "data": {
      "text/plain": [
       "array([[27, 40],\n",
       "       [47, 50],\n",
       "       [59, 20],\n",
       "       [38, 57],\n",
       "       [64, 40]], dtype=int64)"
      ]
     },
     "execution_count": 9,
     "metadata": {},
     "output_type": "execute_result"
    }
   ],
   "source": [
    "# DON'T WRITE HERE"
   ]
  },
  {
   "cell_type": "markdown",
   "metadata": {},
   "source": [
    "### 7. Convert \"conts\" to a tensor\n",
    "Convert the \"conts\" NumPy array to a tensor of dtype <tt>float32</tt>"
   ]
  },
  {
   "cell_type": "code",
   "execution_count": 34,
   "metadata": {},
   "outputs": [
    {
     "data": {
      "text/plain": [
       "torch.float32"
      ]
     },
     "execution_count": 34,
     "metadata": {},
     "output_type": "execute_result"
    }
   ],
   "source": [
    "# CODE HERE\n",
    "conts = torch.tensor(conts, dtype=torch.float32)\n",
    "\n",
    "# RUN THIS CODE TO COMPARE RESULTS\n",
    "conts.dtype"
   ]
  },
  {
   "cell_type": "code",
   "execution_count": 10,
   "metadata": {},
   "outputs": [
    {
     "data": {
      "text/plain": [
       "torch.float32"
      ]
     },
     "execution_count": 10,
     "metadata": {},
     "output_type": "execute_result"
    }
   ],
   "source": [
    "# DON'T WRITE HERE"
   ]
  },
  {
   "cell_type": "markdown",
   "metadata": {},
   "source": [
    "### 8. Create a label tensor\n",
    "Create a tensor called \"y\" from the values in the label column. Be sure to flatten the tensor so that it can be passed into the CE Loss function."
   ]
  },
  {
   "cell_type": "code",
   "execution_count": 37,
   "metadata": {},
   "outputs": [
    {
     "data": {
      "text/plain": [
       "tensor([0, 1, 0,  ..., 1, 0, 1])"
      ]
     },
     "execution_count": 37,
     "metadata": {},
     "output_type": "execute_result"
    }
   ],
   "source": [
    "# CODE HERE\n",
    "y = torch.tensor(df[y_col].values.flatten())\n",
    "y"
   ]
  },
  {
   "cell_type": "code",
   "execution_count": 11,
   "metadata": {},
   "outputs": [],
   "source": [
    "# DON'T WRITE HERE"
   ]
  },
  {
   "cell_type": "markdown",
   "metadata": {},
   "source": [
    "### 9. Create train and test sets from <tt>cats</tt>, <tt>conts</tt>, and <tt>y</tt>\n",
    "We use the entire batch of 30,000 records, but a smaller batch size will save time during training.<br>\n",
    "We used a test size of 5,000 records, but you can choose another fixed value or a percentage of the batch size.<br>\n",
    "Make sure that your test records remain separate from your training records, without overlap.<br>\n",
    "To make coding slices easier, we recommend assigning batch and test sizes to simple variables like \"b\" and \"t\"."
   ]
  },
  {
   "cell_type": "code",
   "execution_count": 46,
   "metadata": {},
   "outputs": [
    {
     "data": {
      "text/plain": [
       "tensor([[ 1, 10,  3,  2,  1],\n",
       "        [ 1, 11,  1,  1,  2],\n",
       "        [ 1, 10,  0,  3,  7],\n",
       "        ...,\n",
       "        [ 1, 12,  1,  2,  7],\n",
       "        [ 0, 13,  3,  2,  0],\n",
       "        [ 1,  6,  1,  3,  2]])"
      ]
     },
     "execution_count": 46,
     "metadata": {},
     "output_type": "execute_result"
    }
   ],
   "source": [
    "cats"
   ]
  },
  {
   "cell_type": "code",
   "execution_count": 50,
   "metadata": {},
   "outputs": [],
   "source": [
    "# CODE HERE\n",
    "batch_size = 30000 # suggested batch size\n",
    "test_size = 5000  # suggested test size\n",
    "\n",
    "cat_train = cats[:batch_size-test_size]\n",
    "cat_test = cats[batch_size-test_size:]\n",
    "con_train = conts[:batch_size-test_size]\n",
    "con_test = conts[batch_size-test_size:]\n",
    "y_train = y[:batch_size-test_size]\n",
    "y_test = y[batch_size-test_size:batch_size]"
   ]
  },
  {
   "cell_type": "code",
   "execution_count": 12,
   "metadata": {},
   "outputs": [],
   "source": [
    "# DON'T WRITE HERE"
   ]
  },
  {
   "cell_type": "markdown",
   "metadata": {},
   "source": [
    "### Define the model class\n",
    "Run the cell below to define the TabularModel model class we've used before."
   ]
  },
  {
   "cell_type": "code",
   "execution_count": 39,
   "metadata": {},
   "outputs": [],
   "source": [
    "class TabularModel(nn.Module):\n",
    "\n",
    "    def __init__(self, emb_szs, n_cont, out_sz, layers, p=0.5):\n",
    "        # Call the parent __init__\n",
    "        super().__init__()\n",
    "        \n",
    "        # Set up the embedding, dropout, and batch normalization layer attributes\n",
    "        self.embeds = nn.ModuleList([nn.Embedding(ni, nf) for ni,nf in emb_szs])\n",
    "        self.emb_drop = nn.Dropout(p)\n",
    "        self.bn_cont = nn.BatchNorm1d(n_cont)\n",
    "        \n",
    "        # Assign a variable to hold a list of layers\n",
    "        layerlist = []\n",
    "        \n",
    "        # Assign a variable to store the number of embedding and continuous layers\n",
    "        n_emb = sum((nf for ni,nf in emb_szs))\n",
    "        n_in = n_emb + n_cont\n",
    "        \n",
    "        # Iterate through the passed-in \"layers\" parameter (ie, [200,100]) to build a list of layers\n",
    "        for i in layers:\n",
    "            layerlist.append(nn.Linear(n_in,i)) \n",
    "            layerlist.append(nn.ReLU(inplace=True))\n",
    "            layerlist.append(nn.BatchNorm1d(i))\n",
    "            layerlist.append(nn.Dropout(p))\n",
    "            n_in = i\n",
    "        layerlist.append(nn.Linear(layers[-1],out_sz))\n",
    "        \n",
    "        # Convert the list of layers into an attribute\n",
    "        self.layers = nn.Sequential(*layerlist)\n",
    "    \n",
    "    def forward(self, x_cat, x_cont):\n",
    "        # Extract embedding values from the incoming categorical data\n",
    "        embeddings = []\n",
    "        for i,e in enumerate(self.embeds):\n",
    "            embeddings.append(e(x_cat[:,i]))\n",
    "        x = torch.cat(embeddings, 1)\n",
    "        # Perform an initial dropout on the embeddings\n",
    "        x = self.emb_drop(x)\n",
    "        \n",
    "        # Normalize the incoming continuous data\n",
    "        x_cont = self.bn_cont(x_cont)\n",
    "        x = torch.cat([x, x_cont], 1)\n",
    "        \n",
    "        # Set up model layers\n",
    "        x = self.layers(x)\n",
    "        return x"
   ]
  },
  {
   "cell_type": "markdown",
   "metadata": {},
   "source": [
    "### 10. Set the random seed\n",
    "To obtain results that can be recreated, set a torch manual_seed (we used 33)."
   ]
  },
  {
   "cell_type": "code",
   "execution_count": 40,
   "metadata": {},
   "outputs": [
    {
     "data": {
      "text/plain": [
       "<torch._C.Generator at 0x7f1cb25143d8>"
      ]
     },
     "execution_count": 40,
     "metadata": {},
     "output_type": "execute_result"
    }
   ],
   "source": [
    "# CODE HERE\n",
    "torch.manual_seed(33)"
   ]
  },
  {
   "cell_type": "code",
   "execution_count": 14,
   "metadata": {},
   "outputs": [
    {
     "data": {
      "text/plain": [
       "<torch._C.Generator at 0x1e5e64e5e30>"
      ]
     },
     "execution_count": 14,
     "metadata": {},
     "output_type": "execute_result"
    }
   ],
   "source": [
    "# DON'T WRITE HERE"
   ]
  },
  {
   "cell_type": "markdown",
   "metadata": {},
   "source": [
    "### 11. Create a TabularModel instance\n",
    "Create an instance called \"model\" with one hidden layer containing 50 neurons and a dropout layer p-value of 0.4"
   ]
  },
  {
   "cell_type": "code",
   "execution_count": 41,
   "metadata": {},
   "outputs": [
    {
     "data": {
      "text/plain": [
       "TabularModel(\n",
       "  (embeds): ModuleList(\n",
       "    (0): Embedding(2, 1)\n",
       "    (1): Embedding(14, 7)\n",
       "    (2): Embedding(6, 3)\n",
       "    (3): Embedding(5, 3)\n",
       "    (4): Embedding(12, 6)\n",
       "  )\n",
       "  (emb_drop): Dropout(p=0.4, inplace=False)\n",
       "  (bn_cont): BatchNorm1d(2, eps=1e-05, momentum=0.1, affine=True, track_running_stats=True)\n",
       "  (layers): Sequential(\n",
       "    (0): Linear(in_features=22, out_features=50, bias=True)\n",
       "    (1): ReLU(inplace=True)\n",
       "    (2): BatchNorm1d(50, eps=1e-05, momentum=0.1, affine=True, track_running_stats=True)\n",
       "    (3): Dropout(p=0.4, inplace=False)\n",
       "    (4): Linear(in_features=50, out_features=2, bias=True)\n",
       "  )\n",
       ")"
      ]
     },
     "execution_count": 41,
     "metadata": {},
     "output_type": "execute_result"
    }
   ],
   "source": [
    "# CODE HERE\n",
    "model = TabularModel(emb_szs=emb_szs, n_cont=len(cont_cols), out_sz=2, layers=[50], p=0.4)\n",
    "\n",
    "# RUN THIS CODE TO COMPARE RESULTS\n",
    "model"
   ]
  },
  {
   "cell_type": "code",
   "execution_count": 15,
   "metadata": {},
   "outputs": [
    {
     "data": {
      "text/plain": [
       "TabularModel(\n",
       "  (embeds): ModuleList(\n",
       "    (0): Embedding(2, 1)\n",
       "    (1): Embedding(14, 7)\n",
       "    (2): Embedding(6, 3)\n",
       "    (3): Embedding(5, 3)\n",
       "    (4): Embedding(12, 6)\n",
       "  )\n",
       "  (emb_drop): Dropout(p=0.4)\n",
       "  (bn_cont): BatchNorm1d(2, eps=1e-05, momentum=0.1, affine=True, track_running_stats=True)\n",
       "  (layers): Sequential(\n",
       "    (0): Linear(in_features=22, out_features=50, bias=True)\n",
       "    (1): ReLU(inplace)\n",
       "    (2): BatchNorm1d(50, eps=1e-05, momentum=0.1, affine=True, track_running_stats=True)\n",
       "    (3): Dropout(p=0.4)\n",
       "    (4): Linear(in_features=50, out_features=2, bias=True)\n",
       "  )\n",
       ")"
      ]
     },
     "execution_count": 15,
     "metadata": {},
     "output_type": "execute_result"
    }
   ],
   "source": [
    "# DON'T WRITE HERE"
   ]
  },
  {
   "cell_type": "markdown",
   "metadata": {},
   "source": [
    "### 12. Define the loss and optimization functions\n",
    "Create a loss function called \"criterion\" using CrossEntropyLoss<br>\n",
    "Create an optimization function called \"optimizer\" using Adam, with a learning rate of 0.001"
   ]
  },
  {
   "cell_type": "code",
   "execution_count": 44,
   "metadata": {},
   "outputs": [],
   "source": [
    "# CODE HERE\n",
    "\n",
    "criterion = nn.CrossEntropyLoss()\n",
    "optimizer = torch.optim.Adam(model.parameters(), lr=0.001)\n"
   ]
  },
  {
   "cell_type": "code",
   "execution_count": 16,
   "metadata": {},
   "outputs": [],
   "source": [
    "# DON'T WRITE HERE"
   ]
  },
  {
   "cell_type": "markdown",
   "metadata": {},
   "source": [
    "### Train the model\n",
    "Run the cell below to train the model through 300 epochs. Remember, results may vary!<br>\n",
    "After completing the exercises, feel free to come back to this section and experiment with different parameters."
   ]
  },
  {
   "cell_type": "code",
   "execution_count": 51,
   "metadata": {},
   "outputs": [
    {
     "name": "stdout",
     "output_type": "stream",
     "text": [
      "epoch:   1  loss: 0.81226861\n",
      "epoch:  26  loss: 0.59122103\n",
      "epoch:  51  loss: 0.51452059\n",
      "epoch:  76  loss: 0.46413764\n",
      "epoch: 101  loss: 0.42888233\n",
      "epoch: 126  loss: 0.40092462\n",
      "epoch: 151  loss: 0.37943363\n",
      "epoch: 176  loss: 0.36461926\n",
      "epoch: 201  loss: 0.35019886\n",
      "epoch: 226  loss: 0.33695278\n",
      "epoch: 251  loss: 0.33249414\n",
      "epoch: 276  loss: 0.32157326\n",
      "epoch: 300  loss: 0.31677243\n",
      "\n",
      "Duration: 101 seconds\n"
     ]
    }
   ],
   "source": [
    "import time\n",
    "start_time = time.time()\n",
    "\n",
    "epochs = 300\n",
    "losses = []\n",
    "\n",
    "for i in range(epochs):\n",
    "    i+=1\n",
    "    y_pred = model(cat_train, con_train)\n",
    "    loss = criterion(y_pred, y_train)\n",
    "    losses.append(loss)\n",
    "    \n",
    "    # a neat trick to save screen space:\n",
    "    if i%25 == 1:\n",
    "        print(f'epoch: {i:3}  loss: {loss.item():10.8f}')\n",
    "\n",
    "    optimizer.zero_grad()\n",
    "    loss.backward()\n",
    "    optimizer.step()\n",
    "\n",
    "print(f'epoch: {i:3}  loss: {loss.item():10.8f}') # print the last line\n",
    "print(f'\\nDuration: {time.time() - start_time:.0f} seconds') # print the time elapsed"
   ]
  },
  {
   "cell_type": "markdown",
   "metadata": {},
   "source": [
    "### 13. Plot the Cross Entropy Loss against epochs\n",
    "Results may vary. The shape of the plot is what matters."
   ]
  },
  {
   "cell_type": "code",
   "execution_count": 54,
   "metadata": {},
   "outputs": [
    {
     "data": {
      "text/plain": [
       "[tensor(0.8123, grad_fn=<NllLossBackward0>),\n",
       " tensor(0.8009, grad_fn=<NllLossBackward0>),\n",
       " tensor(0.7814, grad_fn=<NllLossBackward0>),\n",
       " tensor(0.7680, grad_fn=<NllLossBackward0>),\n",
       " tensor(0.7542, grad_fn=<NllLossBackward0>),\n",
       " tensor(0.7483, grad_fn=<NllLossBackward0>),\n",
       " tensor(0.7317, grad_fn=<NllLossBackward0>),\n",
       " tensor(0.7227, grad_fn=<NllLossBackward0>),\n",
       " tensor(0.7118, grad_fn=<NllLossBackward0>),\n",
       " tensor(0.7026, grad_fn=<NllLossBackward0>),\n",
       " tensor(0.6934, grad_fn=<NllLossBackward0>),\n",
       " tensor(0.6761, grad_fn=<NllLossBackward0>),\n",
       " tensor(0.6746, grad_fn=<NllLossBackward0>),\n",
       " tensor(0.6636, grad_fn=<NllLossBackward0>),\n",
       " tensor(0.6573, grad_fn=<NllLossBackward0>),\n",
       " tensor(0.6491, grad_fn=<NllLossBackward0>),\n",
       " tensor(0.6432, grad_fn=<NllLossBackward0>),\n",
       " tensor(0.6382, grad_fn=<NllLossBackward0>),\n",
       " tensor(0.6291, grad_fn=<NllLossBackward0>),\n",
       " tensor(0.6201, grad_fn=<NllLossBackward0>),\n",
       " tensor(0.6143, grad_fn=<NllLossBackward0>),\n",
       " tensor(0.6143, grad_fn=<NllLossBackward0>),\n",
       " tensor(0.6096, grad_fn=<NllLossBackward0>),\n",
       " tensor(0.6028, grad_fn=<NllLossBackward0>),\n",
       " tensor(0.5992, grad_fn=<NllLossBackward0>),\n",
       " tensor(0.5912, grad_fn=<NllLossBackward0>),\n",
       " tensor(0.5891, grad_fn=<NllLossBackward0>),\n",
       " tensor(0.5870, grad_fn=<NllLossBackward0>),\n",
       " tensor(0.5761, grad_fn=<NllLossBackward0>),\n",
       " tensor(0.5764, grad_fn=<NllLossBackward0>),\n",
       " tensor(0.5702, grad_fn=<NllLossBackward0>),\n",
       " tensor(0.5664, grad_fn=<NllLossBackward0>),\n",
       " tensor(0.5673, grad_fn=<NllLossBackward0>),\n",
       " tensor(0.5627, grad_fn=<NllLossBackward0>),\n",
       " tensor(0.5594, grad_fn=<NllLossBackward0>),\n",
       " tensor(0.5537, grad_fn=<NllLossBackward0>),\n",
       " tensor(0.5492, grad_fn=<NllLossBackward0>),\n",
       " tensor(0.5498, grad_fn=<NllLossBackward0>),\n",
       " tensor(0.5444, grad_fn=<NllLossBackward0>),\n",
       " tensor(0.5380, grad_fn=<NllLossBackward0>),\n",
       " tensor(0.5421, grad_fn=<NllLossBackward0>),\n",
       " tensor(0.5385, grad_fn=<NllLossBackward0>),\n",
       " tensor(0.5314, grad_fn=<NllLossBackward0>),\n",
       " tensor(0.5303, grad_fn=<NllLossBackward0>),\n",
       " tensor(0.5271, grad_fn=<NllLossBackward0>),\n",
       " tensor(0.5263, grad_fn=<NllLossBackward0>),\n",
       " tensor(0.5243, grad_fn=<NllLossBackward0>),\n",
       " tensor(0.5221, grad_fn=<NllLossBackward0>),\n",
       " tensor(0.5185, grad_fn=<NllLossBackward0>),\n",
       " tensor(0.5160, grad_fn=<NllLossBackward0>),\n",
       " tensor(0.5145, grad_fn=<NllLossBackward0>),\n",
       " tensor(0.5128, grad_fn=<NllLossBackward0>),\n",
       " tensor(0.5120, grad_fn=<NllLossBackward0>),\n",
       " tensor(0.5067, grad_fn=<NllLossBackward0>),\n",
       " tensor(0.5077, grad_fn=<NllLossBackward0>),\n",
       " tensor(0.5031, grad_fn=<NllLossBackward0>),\n",
       " tensor(0.5023, grad_fn=<NllLossBackward0>),\n",
       " tensor(0.4989, grad_fn=<NllLossBackward0>),\n",
       " tensor(0.4979, grad_fn=<NllLossBackward0>),\n",
       " tensor(0.4945, grad_fn=<NllLossBackward0>),\n",
       " tensor(0.4913, grad_fn=<NllLossBackward0>),\n",
       " tensor(0.4923, grad_fn=<NllLossBackward0>),\n",
       " tensor(0.4909, grad_fn=<NllLossBackward0>),\n",
       " tensor(0.4837, grad_fn=<NllLossBackward0>),\n",
       " tensor(0.4847, grad_fn=<NllLossBackward0>),\n",
       " tensor(0.4832, grad_fn=<NllLossBackward0>),\n",
       " tensor(0.4830, grad_fn=<NllLossBackward0>),\n",
       " tensor(0.4807, grad_fn=<NllLossBackward0>),\n",
       " tensor(0.4759, grad_fn=<NllLossBackward0>),\n",
       " tensor(0.4784, grad_fn=<NllLossBackward0>),\n",
       " tensor(0.4746, grad_fn=<NllLossBackward0>),\n",
       " tensor(0.4761, grad_fn=<NllLossBackward0>),\n",
       " tensor(0.4683, grad_fn=<NllLossBackward0>),\n",
       " tensor(0.4683, grad_fn=<NllLossBackward0>),\n",
       " tensor(0.4679, grad_fn=<NllLossBackward0>),\n",
       " tensor(0.4641, grad_fn=<NllLossBackward0>),\n",
       " tensor(0.4658, grad_fn=<NllLossBackward0>),\n",
       " tensor(0.4611, grad_fn=<NllLossBackward0>),\n",
       " tensor(0.4611, grad_fn=<NllLossBackward0>),\n",
       " tensor(0.4609, grad_fn=<NllLossBackward0>),\n",
       " tensor(0.4568, grad_fn=<NllLossBackward0>),\n",
       " tensor(0.4540, grad_fn=<NllLossBackward0>),\n",
       " tensor(0.4539, grad_fn=<NllLossBackward0>),\n",
       " tensor(0.4549, grad_fn=<NllLossBackward0>),\n",
       " tensor(0.4503, grad_fn=<NllLossBackward0>),\n",
       " tensor(0.4526, grad_fn=<NllLossBackward0>),\n",
       " tensor(0.4493, grad_fn=<NllLossBackward0>),\n",
       " tensor(0.4458, grad_fn=<NllLossBackward0>),\n",
       " tensor(0.4431, grad_fn=<NllLossBackward0>),\n",
       " tensor(0.4411, grad_fn=<NllLossBackward0>),\n",
       " tensor(0.4426, grad_fn=<NllLossBackward0>),\n",
       " tensor(0.4395, grad_fn=<NllLossBackward0>),\n",
       " tensor(0.4398, grad_fn=<NllLossBackward0>),\n",
       " tensor(0.4391, grad_fn=<NllLossBackward0>),\n",
       " tensor(0.4368, grad_fn=<NllLossBackward0>),\n",
       " tensor(0.4338, grad_fn=<NllLossBackward0>),\n",
       " tensor(0.4358, grad_fn=<NllLossBackward0>),\n",
       " tensor(0.4321, grad_fn=<NllLossBackward0>),\n",
       " tensor(0.4323, grad_fn=<NllLossBackward0>),\n",
       " tensor(0.4306, grad_fn=<NllLossBackward0>),\n",
       " tensor(0.4289, grad_fn=<NllLossBackward0>),\n",
       " tensor(0.4244, grad_fn=<NllLossBackward0>),\n",
       " tensor(0.4260, grad_fn=<NllLossBackward0>),\n",
       " tensor(0.4264, grad_fn=<NllLossBackward0>),\n",
       " tensor(0.4243, grad_fn=<NllLossBackward0>),\n",
       " tensor(0.4250, grad_fn=<NllLossBackward0>),\n",
       " tensor(0.4201, grad_fn=<NllLossBackward0>),\n",
       " tensor(0.4198, grad_fn=<NllLossBackward0>),\n",
       " tensor(0.4172, grad_fn=<NllLossBackward0>),\n",
       " tensor(0.4209, grad_fn=<NllLossBackward0>),\n",
       " tensor(0.4136, grad_fn=<NllLossBackward0>),\n",
       " tensor(0.4152, grad_fn=<NllLossBackward0>),\n",
       " tensor(0.4148, grad_fn=<NllLossBackward0>),\n",
       " tensor(0.4141, grad_fn=<NllLossBackward0>),\n",
       " tensor(0.4093, grad_fn=<NllLossBackward0>),\n",
       " tensor(0.4135, grad_fn=<NllLossBackward0>),\n",
       " tensor(0.4113, grad_fn=<NllLossBackward0>),\n",
       " tensor(0.4079, grad_fn=<NllLossBackward0>),\n",
       " tensor(0.4094, grad_fn=<NllLossBackward0>),\n",
       " tensor(0.4104, grad_fn=<NllLossBackward0>),\n",
       " tensor(0.4089, grad_fn=<NllLossBackward0>),\n",
       " tensor(0.4065, grad_fn=<NllLossBackward0>),\n",
       " tensor(0.4071, grad_fn=<NllLossBackward0>),\n",
       " tensor(0.4044, grad_fn=<NllLossBackward0>),\n",
       " tensor(0.4015, grad_fn=<NllLossBackward0>),\n",
       " tensor(0.4009, grad_fn=<NllLossBackward0>),\n",
       " tensor(0.3959, grad_fn=<NllLossBackward0>),\n",
       " tensor(0.3945, grad_fn=<NllLossBackward0>),\n",
       " tensor(0.3997, grad_fn=<NllLossBackward0>),\n",
       " tensor(0.3989, grad_fn=<NllLossBackward0>),\n",
       " tensor(0.3956, grad_fn=<NllLossBackward0>),\n",
       " tensor(0.3917, grad_fn=<NllLossBackward0>),\n",
       " tensor(0.3937, grad_fn=<NllLossBackward0>),\n",
       " tensor(0.3951, grad_fn=<NllLossBackward0>),\n",
       " tensor(0.3926, grad_fn=<NllLossBackward0>),\n",
       " tensor(0.3899, grad_fn=<NllLossBackward0>),\n",
       " tensor(0.3891, grad_fn=<NllLossBackward0>),\n",
       " tensor(0.3932, grad_fn=<NllLossBackward0>),\n",
       " tensor(0.3918, grad_fn=<NllLossBackward0>),\n",
       " tensor(0.3883, grad_fn=<NllLossBackward0>),\n",
       " tensor(0.3891, grad_fn=<NllLossBackward0>),\n",
       " tensor(0.3867, grad_fn=<NllLossBackward0>),\n",
       " tensor(0.3833, grad_fn=<NllLossBackward0>),\n",
       " tensor(0.3857, grad_fn=<NllLossBackward0>),\n",
       " tensor(0.3829, grad_fn=<NllLossBackward0>),\n",
       " tensor(0.3803, grad_fn=<NllLossBackward0>),\n",
       " tensor(0.3844, grad_fn=<NllLossBackward0>),\n",
       " tensor(0.3805, grad_fn=<NllLossBackward0>),\n",
       " tensor(0.3827, grad_fn=<NllLossBackward0>),\n",
       " tensor(0.3793, grad_fn=<NllLossBackward0>),\n",
       " tensor(0.3794, grad_fn=<NllLossBackward0>),\n",
       " tensor(0.3778, grad_fn=<NllLossBackward0>),\n",
       " tensor(0.3814, grad_fn=<NllLossBackward0>),\n",
       " tensor(0.3787, grad_fn=<NllLossBackward0>),\n",
       " tensor(0.3777, grad_fn=<NllLossBackward0>),\n",
       " tensor(0.3754, grad_fn=<NllLossBackward0>),\n",
       " tensor(0.3729, grad_fn=<NllLossBackward0>),\n",
       " tensor(0.3731, grad_fn=<NllLossBackward0>),\n",
       " tensor(0.3725, grad_fn=<NllLossBackward0>),\n",
       " tensor(0.3727, grad_fn=<NllLossBackward0>),\n",
       " tensor(0.3719, grad_fn=<NllLossBackward0>),\n",
       " tensor(0.3726, grad_fn=<NllLossBackward0>),\n",
       " tensor(0.3674, grad_fn=<NllLossBackward0>),\n",
       " tensor(0.3747, grad_fn=<NllLossBackward0>),\n",
       " tensor(0.3731, grad_fn=<NllLossBackward0>),\n",
       " tensor(0.3653, grad_fn=<NllLossBackward0>),\n",
       " tensor(0.3657, grad_fn=<NllLossBackward0>),\n",
       " tensor(0.3655, grad_fn=<NllLossBackward0>),\n",
       " tensor(0.3654, grad_fn=<NllLossBackward0>),\n",
       " tensor(0.3652, grad_fn=<NllLossBackward0>),\n",
       " tensor(0.3629, grad_fn=<NllLossBackward0>),\n",
       " tensor(0.3643, grad_fn=<NllLossBackward0>),\n",
       " tensor(0.3617, grad_fn=<NllLossBackward0>),\n",
       " tensor(0.3649, grad_fn=<NllLossBackward0>),\n",
       " tensor(0.3654, grad_fn=<NllLossBackward0>),\n",
       " tensor(0.3646, grad_fn=<NllLossBackward0>),\n",
       " tensor(0.3604, grad_fn=<NllLossBackward0>),\n",
       " tensor(0.3591, grad_fn=<NllLossBackward0>),\n",
       " tensor(0.3623, grad_fn=<NllLossBackward0>),\n",
       " tensor(0.3592, grad_fn=<NllLossBackward0>),\n",
       " tensor(0.3599, grad_fn=<NllLossBackward0>),\n",
       " tensor(0.3564, grad_fn=<NllLossBackward0>),\n",
       " tensor(0.3549, grad_fn=<NllLossBackward0>),\n",
       " tensor(0.3615, grad_fn=<NllLossBackward0>),\n",
       " tensor(0.3563, grad_fn=<NllLossBackward0>),\n",
       " tensor(0.3579, grad_fn=<NllLossBackward0>),\n",
       " tensor(0.3535, grad_fn=<NllLossBackward0>),\n",
       " tensor(0.3550, grad_fn=<NllLossBackward0>),\n",
       " tensor(0.3540, grad_fn=<NllLossBackward0>),\n",
       " tensor(0.3557, grad_fn=<NllLossBackward0>),\n",
       " tensor(0.3512, grad_fn=<NllLossBackward0>),\n",
       " tensor(0.3523, grad_fn=<NllLossBackward0>),\n",
       " tensor(0.3573, grad_fn=<NllLossBackward0>),\n",
       " tensor(0.3514, grad_fn=<NllLossBackward0>),\n",
       " tensor(0.3516, grad_fn=<NllLossBackward0>),\n",
       " tensor(0.3530, grad_fn=<NllLossBackward0>),\n",
       " tensor(0.3492, grad_fn=<NllLossBackward0>),\n",
       " tensor(0.3524, grad_fn=<NllLossBackward0>),\n",
       " tensor(0.3516, grad_fn=<NllLossBackward0>),\n",
       " tensor(0.3495, grad_fn=<NllLossBackward0>),\n",
       " tensor(0.3502, grad_fn=<NllLossBackward0>),\n",
       " tensor(0.3501, grad_fn=<NllLossBackward0>),\n",
       " tensor(0.3463, grad_fn=<NllLossBackward0>),\n",
       " tensor(0.3495, grad_fn=<NllLossBackward0>),\n",
       " tensor(0.3478, grad_fn=<NllLossBackward0>),\n",
       " tensor(0.3475, grad_fn=<NllLossBackward0>),\n",
       " tensor(0.3450, grad_fn=<NllLossBackward0>),\n",
       " tensor(0.3439, grad_fn=<NllLossBackward0>),\n",
       " tensor(0.3456, grad_fn=<NllLossBackward0>),\n",
       " tensor(0.3454, grad_fn=<NllLossBackward0>),\n",
       " tensor(0.3437, grad_fn=<NllLossBackward0>),\n",
       " tensor(0.3479, grad_fn=<NllLossBackward0>),\n",
       " tensor(0.3416, grad_fn=<NllLossBackward0>),\n",
       " tensor(0.3437, grad_fn=<NllLossBackward0>),\n",
       " tensor(0.3390, grad_fn=<NllLossBackward0>),\n",
       " tensor(0.3438, grad_fn=<NllLossBackward0>),\n",
       " tensor(0.3412, grad_fn=<NllLossBackward0>),\n",
       " tensor(0.3447, grad_fn=<NllLossBackward0>),\n",
       " tensor(0.3430, grad_fn=<NllLossBackward0>),\n",
       " tensor(0.3455, grad_fn=<NllLossBackward0>),\n",
       " tensor(0.3406, grad_fn=<NllLossBackward0>),\n",
       " tensor(0.3443, grad_fn=<NllLossBackward0>),\n",
       " tensor(0.3418, grad_fn=<NllLossBackward0>),\n",
       " tensor(0.3420, grad_fn=<NllLossBackward0>),\n",
       " tensor(0.3371, grad_fn=<NllLossBackward0>),\n",
       " tensor(0.3370, grad_fn=<NllLossBackward0>),\n",
       " tensor(0.3378, grad_fn=<NllLossBackward0>),\n",
       " tensor(0.3396, grad_fn=<NllLossBackward0>),\n",
       " tensor(0.3406, grad_fn=<NllLossBackward0>),\n",
       " tensor(0.3392, grad_fn=<NllLossBackward0>),\n",
       " tensor(0.3394, grad_fn=<NllLossBackward0>),\n",
       " tensor(0.3352, grad_fn=<NllLossBackward0>),\n",
       " tensor(0.3362, grad_fn=<NllLossBackward0>),\n",
       " tensor(0.3368, grad_fn=<NllLossBackward0>),\n",
       " tensor(0.3365, grad_fn=<NllLossBackward0>),\n",
       " tensor(0.3354, grad_fn=<NllLossBackward0>),\n",
       " tensor(0.3331, grad_fn=<NllLossBackward0>),\n",
       " tensor(0.3344, grad_fn=<NllLossBackward0>),\n",
       " tensor(0.3341, grad_fn=<NllLossBackward0>),\n",
       " tensor(0.3321, grad_fn=<NllLossBackward0>),\n",
       " tensor(0.3344, grad_fn=<NllLossBackward0>),\n",
       " tensor(0.3348, grad_fn=<NllLossBackward0>),\n",
       " tensor(0.3337, grad_fn=<NllLossBackward0>),\n",
       " tensor(0.3318, grad_fn=<NllLossBackward0>),\n",
       " tensor(0.3348, grad_fn=<NllLossBackward0>),\n",
       " tensor(0.3356, grad_fn=<NllLossBackward0>),\n",
       " tensor(0.3319, grad_fn=<NllLossBackward0>),\n",
       " tensor(0.3303, grad_fn=<NllLossBackward0>),\n",
       " tensor(0.3311, grad_fn=<NllLossBackward0>),\n",
       " tensor(0.3302, grad_fn=<NllLossBackward0>),\n",
       " tensor(0.3325, grad_fn=<NllLossBackward0>),\n",
       " tensor(0.3323, grad_fn=<NllLossBackward0>),\n",
       " tensor(0.3309, grad_fn=<NllLossBackward0>),\n",
       " tensor(0.3302, grad_fn=<NllLossBackward0>),\n",
       " tensor(0.3265, grad_fn=<NllLossBackward0>),\n",
       " tensor(0.3306, grad_fn=<NllLossBackward0>),\n",
       " tensor(0.3268, grad_fn=<NllLossBackward0>),\n",
       " tensor(0.3273, grad_fn=<NllLossBackward0>),\n",
       " tensor(0.3302, grad_fn=<NllLossBackward0>),\n",
       " tensor(0.3265, grad_fn=<NllLossBackward0>),\n",
       " tensor(0.3265, grad_fn=<NllLossBackward0>),\n",
       " tensor(0.3276, grad_fn=<NllLossBackward0>),\n",
       " tensor(0.3274, grad_fn=<NllLossBackward0>),\n",
       " tensor(0.3269, grad_fn=<NllLossBackward0>),\n",
       " tensor(0.3282, grad_fn=<NllLossBackward0>),\n",
       " tensor(0.3242, grad_fn=<NllLossBackward0>),\n",
       " tensor(0.3227, grad_fn=<NllLossBackward0>),\n",
       " tensor(0.3270, grad_fn=<NllLossBackward0>),\n",
       " tensor(0.3256, grad_fn=<NllLossBackward0>),\n",
       " tensor(0.3241, grad_fn=<NllLossBackward0>),\n",
       " tensor(0.3235, grad_fn=<NllLossBackward0>),\n",
       " tensor(0.3216, grad_fn=<NllLossBackward0>),\n",
       " tensor(0.3217, grad_fn=<NllLossBackward0>),\n",
       " tensor(0.3259, grad_fn=<NllLossBackward0>),\n",
       " tensor(0.3232, grad_fn=<NllLossBackward0>),\n",
       " tensor(0.3216, grad_fn=<NllLossBackward0>),\n",
       " tensor(0.3239, grad_fn=<NllLossBackward0>),\n",
       " tensor(0.3233, grad_fn=<NllLossBackward0>),\n",
       " tensor(0.3203, grad_fn=<NllLossBackward0>),\n",
       " tensor(0.3232, grad_fn=<NllLossBackward0>),\n",
       " tensor(0.3241, grad_fn=<NllLossBackward0>),\n",
       " tensor(0.3226, grad_fn=<NllLossBackward0>),\n",
       " tensor(0.3195, grad_fn=<NllLossBackward0>),\n",
       " tensor(0.3209, grad_fn=<NllLossBackward0>),\n",
       " tensor(0.3212, grad_fn=<NllLossBackward0>),\n",
       " tensor(0.3209, grad_fn=<NllLossBackward0>),\n",
       " tensor(0.3228, grad_fn=<NllLossBackward0>),\n",
       " tensor(0.3239, grad_fn=<NllLossBackward0>),\n",
       " tensor(0.3204, grad_fn=<NllLossBackward0>),\n",
       " tensor(0.3175, grad_fn=<NllLossBackward0>),\n",
       " tensor(0.3189, grad_fn=<NllLossBackward0>),\n",
       " tensor(0.3194, grad_fn=<NllLossBackward0>),\n",
       " tensor(0.3204, grad_fn=<NllLossBackward0>),\n",
       " tensor(0.3167, grad_fn=<NllLossBackward0>),\n",
       " tensor(0.3202, grad_fn=<NllLossBackward0>),\n",
       " tensor(0.3183, grad_fn=<NllLossBackward0>),\n",
       " tensor(0.3198, grad_fn=<NllLossBackward0>),\n",
       " tensor(0.3176, grad_fn=<NllLossBackward0>),\n",
       " tensor(0.3186, grad_fn=<NllLossBackward0>),\n",
       " tensor(0.3168, grad_fn=<NllLossBackward0>)]"
      ]
     },
     "execution_count": 54,
     "metadata": {},
     "output_type": "execute_result"
    }
   ],
   "source": [
    "losses"
   ]
  },
  {
   "cell_type": "code",
   "execution_count": 56,
   "metadata": {},
   "outputs": [
    {
     "data": {
      "image/png": "[encoded data removed]",
      "text/plain": [
       "<Figure size 432x288 with 1 Axes>"
      ]
     },
     "metadata": {
      "needs_background": "light"
     },
     "output_type": "display_data"
    }
   ],
   "source": [
    "# CODE HERE\n",
    "with torch.no_grad():\n",
    "    plt.plot(range(epochs), losses)\n",
    "    plt.xlabel('Epochs')\n",
    "    plt.ylabel('Cross Entropy Loss')"
   ]
  },
  {
   "cell_type": "code",
   "execution_count": 18,
   "metadata": {
    "scrolled": true
   },
   "outputs": [
    {
     "data": {
      "image/png": "[encoded data removed]",
      "text/plain": [
       "<Figure size 432x288 with 1 Axes>"
      ]
     },
     "metadata": {
      "needs_background": "light"
     },
     "output_type": "display_data"
    }
   ],
   "source": [
    "# DON'T WRITE HERE"
   ]
  },
  {
   "cell_type": "markdown",
   "metadata": {},
   "source": [
    "### 14. Evaluate the test set\n",
    "With torch set to <tt>no_grad</tt>, pass <tt>cat_test</tt> and <tt>con_test</tt> through the trained model. Create a validation set called \"y_val\". Compare the output to <tt>y_test</tt> using the loss function defined above. Results may vary."
   ]
  },
  {
   "cell_type": "code",
   "execution_count": 58,
   "metadata": {},
   "outputs": [
    {
     "data": {
      "text/plain": [
       "tensor([[-0.6851,  1.1705],\n",
       "        [-0.1143, -1.2384],\n",
       "        [-0.4627,  0.1392],\n",
       "        ...,\n",
       "        [-1.1462,  1.8326],\n",
       "        [ 1.1737, -0.5763],\n",
       "        [-1.5369,  0.6696]])"
      ]
     },
     "execution_count": 58,
     "metadata": {},
     "output_type": "execute_result"
    }
   ],
   "source": [
    "y_val"
   ]
  },
  {
   "cell_type": "code",
   "execution_count": 59,
   "metadata": {},
   "outputs": [
    {
     "name": "stdout",
     "output_type": "stream",
     "text": [
      "CE Loss: 0.31804401\n"
     ]
    }
   ],
   "source": [
    "# CODE HERE\n",
    "with torch.no_grad():\n",
    "    y_val = model(cat_test, con_test)\n",
    "    loss = criterion(y_val, y_test)\n",
    "\n",
    "# RUN THIS CODE TO COMPARE RESULTS\n",
    "print(f'CE Loss: {loss:.8f}')"
   ]
  },
  {
   "cell_type": "code",
   "execution_count": 19,
   "metadata": {},
   "outputs": [
    {
     "name": "stdout",
     "output_type": "stream",
     "text": [
      "CE Loss: 0.30774996\n"
     ]
    }
   ],
   "source": [
    "# TO EVALUATE THE TEST SET"
   ]
  },
  {
   "cell_type": "markdown",
   "metadata": {},
   "source": [
    "### 15. Calculate the overall percent accuracy\n",
    "Using a for loop, compare the argmax values of the <tt>y_val</tt> validation set to the <tt>y_test</tt> set."
   ]
  },
  {
   "cell_type": "code",
   "execution_count": 65,
   "metadata": {},
   "outputs": [
    {
     "name": "stdout",
     "output_type": "stream",
     "text": [
      "4276 out of 5000 = 85.52% correct\n"
     ]
    }
   ],
   "source": [
    "# CODE HERE\n",
    "\n",
    "acc = 0\n",
    "\n",
    "for i in range(len(y_val)):\n",
    "    if y_val[i].argmax() == y_test[i]:\n",
    "        acc += 1\n",
    "\n",
    "\n",
    "print(f\"{acc} out of {len(y_test)} = {100*acc/len(y_test)}% correct\")\n",
    "\n",
    "\n",
    "\n",
    "\n"
   ]
  },
  {
   "cell_type": "code",
   "execution_count": 20,
   "metadata": {},
   "outputs": [
    {
     "name": "stdout",
     "output_type": "stream",
     "text": [
      "\n",
      "4255 out of 5000 = 85.10% correct\n"
     ]
    }
   ],
   "source": [
    "# DON'T WRITE HERE"
   ]
  },
  {
   "cell_type": "markdown",
   "metadata": {},
   "source": [
    "### BONUS: Feed new data through the trained model\n",
    "See if you can write a function that allows a user to input their own values, and generates a prediction.<br>\n",
    "<strong>HINT</strong>:<br>There's no need to build a DataFrame. You can use inputs to populate column variables, convert them to embeddings with a context dictionary, and pass the embedded values directly into the tensor constructors:<br>\n",
    "<pre>mar = input(\"What is the person's marital status? \")\n",
    "mar_d = dict(Divorced=0, Married=1, Married-spouse-absent=2, Never-married=3, Separated=4, Widowed=5)\n",
    "mar = mar_d[mar]\n",
    "cats = torch.tensor([..., ..., mar, ..., ...], dtype=torch.int64).reshape(1,-1)</pre>\n",
    "Make sure that names are put in alphabetical order before assigning numbers.\n",
    "\n",
    "Also, be sure to run <tt>model.eval()</tt> before passing new date through. Good luck!"
   ]
  },
  {
   "cell_type": "code",
   "execution_count": 84,
   "metadata": {},
   "outputs": [
    {
     "data": {
      "text/plain": [
       "{'Adm-clerical': 0,\n",
       " 'Craft-repair': 1,\n",
       " 'Exec-managerial': 2,\n",
       " 'Farming-fishing': 3,\n",
       " 'Handlers-cleaners': 4,\n",
       " 'Machine-op-inspct': 5,\n",
       " 'Other-service': 6,\n",
       " 'Prof-specialty': 7,\n",
       " 'Protective-serv': 8,\n",
       " 'Sales': 9,\n",
       " 'Tech-support': 10,\n",
       " 'Transport-moving': 11}"
      ]
     },
     "execution_count": 84,
     "metadata": {},
     "output_type": "execute_result"
    }
   ],
   "source": [
    "p = {}\n",
    "for ix, i in enumerate(df['occupation'].cat.categories):\n",
    "    p[i] = ix\n",
    "p"
   ]
  },
  {
   "cell_type": "code",
   "execution_count": 87,
   "metadata": {},
   "outputs": [
    {
     "data": {
      "text/plain": [
       "['age', 'hours-per-week']"
      ]
     },
     "execution_count": 87,
     "metadata": {},
     "output_type": "execute_result"
    }
   ],
   "source": [
    "cont_cols"
   ]
  },
  {
   "cell_type": "code",
   "execution_count": null,
   "metadata": {},
   "outputs": [],
   "source": []
  },
  {
   "cell_type": "code",
   "execution_count": 109,
   "metadata": {},
   "outputs": [],
   "source": [
    "# WRITE YOUR CODE HERE:\n",
    "\n",
    "def test_model(model):\n",
    "    age = int(input(\"What is the person's age? (18-90)  \"))\n",
    "    sex = input(\"What is the person's sex? (Male/Female) \").capitalize()\n",
    "    edu_level = int(input(\"What is the person's education level? (3-16)  \"))\n",
    "    marital_status = input(\"What is the person's marital status? \").capitalize()\n",
    "    workclass = input(\"What is the person's workclass? \").capitalize()\n",
    "    occup = input(\"What is the person's occupation?  \").capitalize()\n",
    "    work_hours = int(input(\"How many hours/week are worked? (20-90)  \"))\n",
    "    \n",
    "    marital_status_mapping = {'Divorced': 0, \n",
    "                              'Married': 1, \n",
    "                              'Married-spouse-absent': 2, \n",
    "                              'Never-married': 3, \n",
    "                              'Separated': 4, \n",
    "                              'Widowed': 5}\n",
    "\n",
    "    sex_mapping = {\"Male\": 1, \"Female\": 0}\n",
    "    \n",
    "   \n",
    "    workclass_mapping = {'Federal-gov': 0, 'Local-gov': 1, 'Private': 2, 'Self-emp': 3, 'State-gov': 4}\n",
    "    \n",
    "    occupation_mapping = {'Adm-clerical': 0, \n",
    "                          'Craft-repair': 1, \n",
    "                          'Exec-managerial': 2, \n",
    "                          'Farming-fishing': 3, \n",
    "                          'Handlers-cleaners': 4, \n",
    "                          'Machine-op-inspct': 5, \n",
    "                          'Other-service': 6, \n",
    "                          'Prof-specialty': 7, \n",
    "                          'Protective-serv': 8, \n",
    "                          'Sales': 9, \n",
    "                          'Tech-support': 10, \n",
    "                          'Transport-moving': 11}\n",
    "\n",
    "    cats = torch.tensor([sex_mapping[sex], \n",
    "                         edu_level, \n",
    "                         marital_status_mapping[marital_status], \n",
    "                         workclass_mapping[workclass], \n",
    "                         occupation_mapping[occup]], dtype=torch.int64).reshape(1,-1)\n",
    "    \n",
    "    conts = torch.tensor([age, work_hours], dtype=torch.float32).reshape(1, -1)\n",
    "\n",
    "    with torch.no_grad():\n",
    "        z = model(cats, conts)\n",
    "\n",
    "    print(f'\\nThe predicted label is {z.argmax()}')"
   ]
  },
  {
   "cell_type": "code",
   "execution_count": 110,
   "metadata": {},
   "outputs": [
    {
     "name": "stdout",
     "output_type": "stream",
     "text": [
      "What is the person's age? (18-90)  22\n",
      "What is the person's sex? (Male/Female) male\n",
      "What is the person's education level? (3-16)  12\n",
      "What is the person's marital status? married\n",
      "What is the person's workclass? private\n",
      "What is the person's occupation?  sales\n",
      "How many hours/week are worked? (20-90)  40\n",
      "\n",
      "The predicted label is 0\n"
     ]
    }
   ],
   "source": [
    "# RUN YOUR CODE HERE:\n",
    "model.eval()\n",
    "test_model(model)"
   ]
  },
  {
   "cell_type": "code",
   "execution_count": 21,
   "metadata": {},
   "outputs": [
    {
     "name": "stdout",
     "output_type": "stream",
     "text": [
      "What is the person's age? (18-90)  22\n",
      "What is the person's sex? (Male/Female) male\n",
      "What is the person's education level? (3-16) 12\n",
      "What is the person's marital status? married\n",
      "What is the person's workclass? private\n",
      "What is the person's occupation? sales\n",
      "How many hours/week are worked? (20-90)  40\n",
      "\n",
      "The predicted label is 0\n"
     ]
    }
   ],
   "source": [
    "# DON'T WRITE HERE"
   ]
  },
  {
   "cell_type": "markdown",
   "metadata": {},
   "source": [
    "## Great job!"
   ]
  }
 ],
 "metadata": {
  "kernelspec": {
   "display_name": "Python 3",
   "language": "python",
   "name": "python3"
  },
  "language_info": {
   "codemirror_mode": {
    "name": "ipython",
    "version": 3
   },
   "file_extension": ".py",
   "mimetype": "text/x-python",
   "name": "python",
   "nbconvert_exporter": "python",
   "pygments_lexer": "ipython3",
   "version": "3.7.1"
  }
 },
 "nbformat": 4,
 "nbformat_minor": 2
}
